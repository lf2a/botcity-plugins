{
 "cells": [
  {
   "cell_type": "markdown",
   "id": "e7cc54e5",
   "metadata": {},
   "source": [
    "# Cloud Vision Plugin\n",
    "\n",
    "## Installation\n",
    "\n",
    "`pip install botcity-cloudvision-plugin`\n",
    "\n",
    "## Documentation\n",
    "\n",
    "[Botcity Cloud Vision Plugin](https://botcity-dev.github.io/botcity-plugins-python/botcity-cloudvision-plugin-python/)\n",
    "\n",
    "## Image example\n",
    "\n",
    "<img src=\"./image.jpg\" alt=\"example\" width=\"400\"/>"
   ]
  },
  {
   "cell_type": "code",
   "execution_count": 13,
   "id": "74d45a2b",
   "metadata": {},
   "outputs": [],
   "source": [
    "from botcity.plugins.cloudvision import BotCloudVisionPlugin"
   ]
  },
  {
   "cell_type": "code",
   "execution_count": 14,
   "id": "0b33284e",
   "metadata": {},
   "outputs": [],
   "source": [
    "import os\n",
    "\n",
    "PROJECT_PATH = os.path.abspath('')\n",
    "CREDENTIALS = os.path.join(PROJECT_PATH, 'credentials.json')\n",
    "IMAGE_PATH = os.path.join(PROJECT_PATH, 'image.jpg')"
   ]
  },
  {
   "cell_type": "code",
   "execution_count": 15,
   "id": "f1b36891",
   "metadata": {},
   "outputs": [
    {
     "data": {
      "text/plain": [
       "<botcity.plugins.cloudvision.plugin.BotCloudVisionPlugin at 0x2b595c4f6a0>"
      ]
     },
     "execution_count": 15,
     "metadata": {},
     "output_type": "execute_result"
    }
   ],
   "source": [
    "cloudvision = BotCloudVisionPlugin()\n",
    "cloudvision.credentials(CREDENTIALS)\n",
    "cloudvision.read(IMAGE_PATH)"
   ]
  },
  {
   "cell_type": "code",
   "execution_count": 16,
   "id": "f7e31a41",
   "metadata": {},
   "outputs": [
    {
     "name": "stdout",
     "output_type": "stream",
     "text": [
      "[['When', 212, 8, 439, 8, 439, 71, 212, 71, 1], ['you', 458, 24, 599, 24, 599, 83, 458, 83, 1], ['switch', 620, 8, 879, 8, 879, 71, 620, 71, 1], ['from', 166, 90, 351, 92, 350, 154, 165, 152, 1], ['C++', 374, 82, 525, 84, 524, 152, 373, 150, 1], ['to', 550, 97, 627, 98, 626, 153, 549, 152, 1], ['Python', 650, 88, 925, 91, 924, 170, 649, 167, 1], ['Thanks', 350, 526, 617, 540, 613, 613, 346, 599, 1], ['guys', 643, 549, 804, 557, 800, 620, 640, 612, 1], ['pointers', 176, 750, 317, 753, 316, 792, 175, 789, 1], ['main()', 690, 808, 795, 807, 795, 840, 690, 841, 1], ['{', 588, 833, 619, 833, 619, 867, 588, 867, 1], ['}', 627, 829, 634, 829, 634, 875, 627, 875, 1], ['++', 311, 872, 349, 871, 350, 889, 312, 890, 1], ['So', 275, 1014, 363, 1015, 363, 1079, 275, 1078, 1], ['long,', 367, 1014, 515, 1015, 515, 1080, 367, 1079, 1], ['partner', 486, 1015, 729, 1017, 729, 1080, 486, 1078, 1]]\n"
     ]
    }
   ],
   "source": [
    "print(cloudvision.entries())  # get position of elements"
   ]
  },
  {
   "cell_type": "code",
   "execution_count": 17,
   "id": "bc1f908d",
   "metadata": {},
   "outputs": [
    {
     "name": "stdout",
     "output_type": "stream",
     "text": [
      "\r\n",
      "When you switch\n",
      "from C++ to Python\n",
      "Thanks guys\n",
      "pointers\n",
      "main()\n",
      "{ }\n",
      "++\n",
      "So long, partner\n"
     ]
    }
   ],
   "source": [
    "print(cloudvision.full_text())"
   ]
  },
  {
   "cell_type": "code",
   "execution_count": null,
   "id": "6975e8bf",
   "metadata": {},
   "outputs": [],
   "source": []
  }
 ],
 "metadata": {
  "kernelspec": {
   "display_name": "Python 3 (ipykernel)",
   "language": "python",
   "name": "python3"
  },
  "language_info": {
   "codemirror_mode": {
    "name": "ipython",
    "version": 3
   },
   "file_extension": ".py",
   "mimetype": "text/x-python",
   "name": "python",
   "nbconvert_exporter": "python",
   "pygments_lexer": "ipython3",
   "version": "3.10.0"
  }
 },
 "nbformat": 4,
 "nbformat_minor": 5
}