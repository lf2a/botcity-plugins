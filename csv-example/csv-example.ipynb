{
 "cells": [
  {
   "cell_type": "markdown",
   "id": "3dd46e42",
   "metadata": {},
   "source": [
    "# Botcity CSV Plugin\n",
    "\n",
    "## Installation\n",
    "\n",
    "`pip install botcity-csv-plugin`\n",
    "\n",
    "## Documentation\n",
    "\n",
    "[Botcity CSV Plugin](https://botcity-dev.github.io/botcity-plugins-python/botcity-csv-plugin-python/)"
   ]
  },
  {
   "cell_type": "code",
   "execution_count": 1,
   "id": "5bd24b08",
   "metadata": {},
   "outputs": [],
   "source": [
    "from botcity.plugins.csv import BotCSVPlugin"
   ]
  },
  {
   "cell_type": "code",
   "execution_count": 2,
   "id": "de9c4ee7",
   "metadata": {},
   "outputs": [],
   "source": [
    "bot_csv = BotCSVPlugin()"
   ]
  },
  {
   "cell_type": "code",
   "execution_count": 3,
   "id": "e8de84ec",
   "metadata": {},
   "outputs": [
    {
     "data": {
      "text/plain": [
       "<botcity.plugins.csv.plugin.BotCSVPlugin at 0x209f06a1fc0>"
      ]
     },
     "execution_count": 3,
     "metadata": {},
     "output_type": "execute_result"
    }
   ],
   "source": [
    "# open csv\n",
    "bot_csv.read('sample.csv')"
   ]
  },
  {
   "cell_type": "code",
   "execution_count": 4,
   "id": "5788c006",
   "metadata": {},
   "outputs": [
    {
     "data": {
      "text/plain": [
       "<botcity.plugins.csv.plugin.BotCSVPlugin at 0x209f06a1fc0>"
      ]
     },
     "execution_count": 4,
     "metadata": {},
     "output_type": "execute_result"
    }
   ],
   "source": [
    "# set separator character\n",
    "bot_csv.set_separator(separator=',')  # default ','"
   ]
  },
  {
   "cell_type": "code",
   "execution_count": 5,
   "id": "73371325",
   "metadata": {},
   "outputs": [
    {
     "name": "stdout",
     "output_type": "stream",
     "text": [
      "['col1', 'col2', 'col3']\n"
     ]
    }
   ],
   "source": [
    "# get csv header\n",
    "csv_header = bot_csv.header\n",
    "print(csv_header)"
   ]
  },
  {
   "cell_type": "markdown",
   "id": "89854e80",
   "metadata": {},
   "source": [
    "## Add row"
   ]
  },
  {
   "cell_type": "code",
   "execution_count": 6,
   "id": "47bba62c",
   "metadata": {},
   "outputs": [
    {
     "data": {
      "text/plain": [
       "<botcity.plugins.csv.plugin.BotCSVPlugin at 0x209f06a1fc0>"
      ]
     },
     "execution_count": 6,
     "metadata": {},
     "output_type": "execute_result"
    }
   ],
   "source": [
    "# add row - dict\n",
    "bot_csv.add_row({'col1': '11', 'col2': '22', 'col3': '33'})"
   ]
  },
  {
   "cell_type": "code",
   "execution_count": 7,
   "id": "4600331b",
   "metadata": {},
   "outputs": [
    {
     "data": {
      "text/plain": [
       "<botcity.plugins.csv.plugin.BotCSVPlugin at 0x209f06a1fc0>"
      ]
     },
     "execution_count": 7,
     "metadata": {},
     "output_type": "execute_result"
    }
   ],
   "source": [
    "# add row style - list\n",
    "bot_csv.add_row(['x', 'y', 'z'])"
   ]
  },
  {
   "cell_type": "code",
   "execution_count": 8,
   "id": "e3ced1ae",
   "metadata": {},
   "outputs": [
    {
     "data": {
      "text/plain": [
       "<botcity.plugins.csv.plugin.BotCSVPlugin at 0x209f06a1fc0>"
      ]
     },
     "execution_count": 8,
     "metadata": {},
     "output_type": "execute_result"
    }
   ],
   "source": [
    "# add rows style - list[dict]\n",
    "bot_csv.add_rows([{'col1': '11', 'col2': '22', 'col3': '33'}, {'col1': '11', 'col2': '22', 'col3': '33'}])"
   ]
  },
  {
   "cell_type": "markdown",
   "id": "937fe78e",
   "metadata": {},
   "source": [
    "## Remove row"
   ]
  },
  {
   "cell_type": "code",
   "execution_count": 9,
   "id": "ff63ed88",
   "metadata": {},
   "outputs": [
    {
     "data": {
      "text/plain": [
       "<botcity.plugins.csv.plugin.BotCSVPlugin at 0x209f06a1fc0>"
      ]
     },
     "execution_count": 9,
     "metadata": {},
     "output_type": "execute_result"
    }
   ],
   "source": [
    "# remove row by row index\n",
    "bot_csv.remove_row(row=2)"
   ]
  },
  {
   "cell_type": "code",
   "execution_count": 10,
   "id": "95243d0d",
   "metadata": {},
   "outputs": [
    {
     "data": {
      "text/plain": [
       "<botcity.plugins.csv.plugin.BotCSVPlugin at 0x209f06a1fc0>"
      ]
     },
     "execution_count": 10,
     "metadata": {},
     "output_type": "execute_result"
    }
   ],
   "source": [
    "# remove row by row index\n",
    "bot_csv.remove_rows(rows=[0, 1])"
   ]
  },
  {
   "cell_type": "code",
   "execution_count": 11,
   "id": "029e3bcc",
   "metadata": {},
   "outputs": [
    {
     "data": {
      "text/plain": [
       "<botcity.plugins.csv.plugin.BotCSVPlugin at 0x209f06a1fc0>"
      ]
     },
     "execution_count": 11,
     "metadata": {},
     "output_type": "execute_result"
    }
   ],
   "source": [
    "# remove column by column name\n",
    "bot_csv.remove_column(columns='col1')"
   ]
  },
  {
   "cell_type": "markdown",
   "id": "e4af7534",
   "metadata": {},
   "source": [
    "## Sort"
   ]
  },
  {
   "cell_type": "code",
   "execution_count": 12,
   "id": "c6962798",
   "metadata": {},
   "outputs": [
    {
     "data": {
      "text/plain": [
       "<botcity.plugins.csv.plugin.BotCSVPlugin at 0x209f06a1fc0>"
      ]
     },
     "execution_count": 12,
     "metadata": {},
     "output_type": "execute_result"
    }
   ],
   "source": [
    "# sort rows by column name\n",
    "bot_csv.sort(by_columns=['col2'], ascending=False)"
   ]
  },
  {
   "cell_type": "markdown",
   "id": "2d9207a7",
   "metadata": {},
   "source": [
    "## Save file"
   ]
  },
  {
   "cell_type": "code",
   "execution_count": 13,
   "id": "4b0fdd8f",
   "metadata": {},
   "outputs": [
    {
     "data": {
      "text/plain": [
       "<botcity.plugins.csv.plugin.BotCSVPlugin at 0x209f06a1fc0>"
      ]
     },
     "execution_count": 13,
     "metadata": {},
     "output_type": "execute_result"
    }
   ],
   "source": [
    "# save csv\n",
    "bot_csv.write('sample.csv')"
   ]
  },
  {
   "cell_type": "markdown",
   "id": "bbece73e",
   "metadata": {},
   "source": [
    "## Print csv"
   ]
  },
  {
   "cell_type": "code",
   "execution_count": 14,
   "id": "b2c53049",
   "metadata": {},
   "outputs": [
    {
     "name": "stdout",
     "output_type": "stream",
     "text": [
      "[['y', 'z'], ['22', '33']]\n"
     ]
    }
   ],
   "source": [
    "# csv to matrix\n",
    "print(bot_csv.as_list())"
   ]
  },
  {
   "cell_type": "code",
   "execution_count": 15,
   "id": "3682b4f7",
   "metadata": {},
   "outputs": [
    {
     "name": "stdout",
     "output_type": "stream",
     "text": [
      "{'col2': ['y', '22'], 'col3': ['z', '33']}\n"
     ]
    }
   ],
   "source": [
    "# csv to dict\n",
    "print(bot_csv.as_dict())"
   ]
  },
  {
   "cell_type": "code",
   "execution_count": 16,
   "id": "792dd594",
   "metadata": {},
   "outputs": [
    {
     "name": "stdout",
     "output_type": "stream",
     "text": [
      "  col2 col3\n",
      "4    y    z\n",
      "3   22   33\n"
     ]
    }
   ],
   "source": [
    "# csv to pandas dataframe\n",
    "print(bot_csv.as_dataframe())"
   ]
  }
 ],
 "metadata": {
  "kernelspec": {
   "display_name": "Python 3 (ipykernel)",
   "language": "python",
   "name": "python3"
  },
  "language_info": {
   "codemirror_mode": {
    "name": "ipython",
    "version": 3
   },
   "file_extension": ".py",
   "mimetype": "text/x-python",
   "name": "python",
   "nbconvert_exporter": "python",
   "pygments_lexer": "ipython3",
   "version": "3.10.0"
  }
 },
 "nbformat": 4,
 "nbformat_minor": 5
}
