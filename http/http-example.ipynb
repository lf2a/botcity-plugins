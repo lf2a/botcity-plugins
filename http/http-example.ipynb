{
 "cells": [
  {
   "cell_type": "markdown",
   "id": "a2b3d577",
   "metadata": {},
   "source": [
    "# HTTP Plugin\n",
    "\n",
    "## Installation\n",
    "\n",
    "`pip install botcity-http-plugin`\n",
    "\n",
    "## Documentation\n",
    "[Botcity HTTP Plugin](https://botcity-dev.github.io/botcity-plugins-python/botcity-http-plugin-python/)"
   ]
  },
  {
   "cell_type": "code",
   "execution_count": 2,
   "id": "3f6e28c3",
   "metadata": {},
   "outputs": [],
   "source": [
    "from botcity.plugins.http import BotHttpPlugin"
   ]
  },
  {
   "cell_type": "code",
   "execution_count": 3,
   "id": "9963657e",
   "metadata": {},
   "outputs": [],
   "source": [
    "http = BotHttpPlugin('https://httpbin.org/get')"
   ]
  },
  {
   "cell_type": "code",
   "execution_count": 4,
   "id": "b74f5b15",
   "metadata": {},
   "outputs": [
    {
     "name": "stdout",
     "output_type": "stream",
     "text": [
      "{\n",
      "  \"args\": {}, \n",
      "  \"headers\": {\n",
      "    \"Accept\": \"*/*\", \n",
      "    \"Accept-Encoding\": \"gzip, deflate\", \n",
      "    \"Host\": \"httpbin.org\", \n",
      "    \"User-Agent\": \"python-requests/2.26.0\", \n",
      "    \"X-Amzn-Trace-Id\": \"Root=1-61e81be4-50d26cfa32a5120c779fef98\"\n",
      "  }, \n",
      "  \"origin\": \"170.245.95.172\", \n",
      "  \"url\": \"https://httpbin.org/get\"\n",
      "}\n",
      "\n"
     ]
    }
   ],
   "source": [
    "print(http.get().text)  # get request body (string)"
   ]
  },
  {
   "cell_type": "code",
   "execution_count": 5,
   "id": "9ef30362",
   "metadata": {},
   "outputs": [
    {
     "name": "stdout",
     "output_type": "stream",
     "text": [
      "{'args': {}, 'headers': {'Accept': '*/*', 'Accept-Encoding': 'gzip, deflate', 'Host': 'httpbin.org', 'User-Agent': 'python-requests/2.26.0', 'X-Amzn-Trace-Id': 'Root=1-61e81be7-6751fe427e116923246e2800'}, 'origin': '170.245.95.172', 'url': 'https://httpbin.org/get'}\n"
     ]
    }
   ],
   "source": [
    "print(http.get_as_json())  # get request body (dict)"
   ]
  },
  {
   "cell_type": "code",
   "execution_count": 7,
   "id": "5a6d873d",
   "metadata": {},
   "outputs": [
    {
     "name": "stdout",
     "output_type": "stream",
     "text": [
      "C:\\Users\\luizf\\file.json\n"
     ]
    }
   ],
   "source": [
    "import os\n",
    "\n",
    "HOME_PATH = os.path.expanduser('~')\n",
    "FILE_PATH = os.path.join(HOME_PATH, 'file.json')\n",
    "print(http.get_as_file(FILE_PATH))  # save requesto body in '~/file.json'"
   ]
  },
  {
   "cell_type": "code",
   "execution_count": 8,
   "id": "a1412868",
   "metadata": {},
   "outputs": [
    {
     "name": "stdout",
     "output_type": "stream",
     "text": [
      "{\n",
      "  \"args\": {\n",
      "    \"page\": \"1\", \n",
      "    \"user\": \"12345678\"\n",
      "  }, \n",
      "  \"headers\": {\n",
      "    \"Accept\": \"*/*\", \n",
      "    \"Accept-Encoding\": \"gzip, deflate\", \n",
      "    \"Host\": \"httpbin.org\", \n",
      "    \"User-Agent\": \"python-requests/2.26.0\", \n",
      "    \"X-Amzn-Trace-Id\": \"Root=1-61e81cb2-42334a7f081f8ba74bccaa0e\"\n",
      "  }, \n",
      "  \"origin\": \"170.245.95.172\", \n",
      "  \"url\": \"https://httpbin.org/get?user=12345678&page=1\"\n",
      "}\n",
      "\n"
     ]
    }
   ],
   "source": [
    "http.set_params({'user': '12345678'})  # add query params\n",
    "http.add_param('page', 1)  # add query param\n",
    "print(http.get().text)"
   ]
  },
  {
   "cell_type": "code",
   "execution_count": 10,
   "id": "1eea42a9",
   "metadata": {},
   "outputs": [
    {
     "name": "stdout",
     "output_type": "stream",
     "text": [
      "{\n",
      "  \"args\": {}, \n",
      "  \"data\": \"\", \n",
      "  \"files\": {}, \n",
      "  \"form\": {\n",
      "    \"page\": \"1\", \n",
      "    \"user\": \"12345678\"\n",
      "  }, \n",
      "  \"headers\": {\n",
      "    \"Accept\": \"*/*\", \n",
      "    \"Accept-Encoding\": \"gzip, deflate\", \n",
      "    \"Content-Length\": \"20\", \n",
      "    \"Content-Type\": \"application/x-www-form-urlencoded\", \n",
      "    \"Host\": \"httpbin.org\", \n",
      "    \"User-Agent\": \"python-requests/2.26.0\", \n",
      "    \"X-Amzn-Trace-Id\": \"Root=1-61e829e9-36a04bbb038f97840c3feec4\"\n",
      "  }, \n",
      "  \"json\": null, \n",
      "  \"origin\": \"170.245.95.172\", \n",
      "  \"url\": \"https://httpbin.org/post\"\n",
      "}\n",
      "\n"
     ]
    }
   ],
   "source": [
    "http.set_url('https://httpbin.org/post')\n",
    "print(http.post().text)"
   ]
  },
  {
   "cell_type": "code",
   "execution_count": null,
   "id": "b2900dc0",
   "metadata": {},
   "outputs": [],
   "source": []
  }
 ],
 "metadata": {
  "kernelspec": {
   "display_name": "Python 3 (ipykernel)",
   "language": "python",
   "name": "python3"
  },
  "language_info": {
   "codemirror_mode": {
    "name": "ipython",
    "version": 3
   },
   "file_extension": ".py",
   "mimetype": "text/x-python",
   "name": "python",
   "nbconvert_exporter": "python",
   "pygments_lexer": "ipython3",
   "version": "3.10.0"
  }
 },
 "nbformat": 4,
 "nbformat_minor": 5
}