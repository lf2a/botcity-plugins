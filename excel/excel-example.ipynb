{
 "cells": [
  {
   "cell_type": "markdown",
   "id": "c0d69e31",
   "metadata": {},
   "source": [
    "# Excel Plugin\n",
    "\n",
    "Handle your excel files.\n",
    "\n",
    "# Installation\n",
    "\n",
    "`pip install botcity-excel-plugin`\n",
    "\n",
    "# Documentation\n",
    "\n",
    "[Botcity Excel Plugin](https://botcity-dev.github.io/botcity-plugins-python/botcity-excel-plugin-python/)"
   ]
  },
  {
   "cell_type": "markdown",
   "id": "19290750",
   "metadata": {},
   "source": [
    "<h3 style=\"color:red;\">Warning</h3>\n",
    "\n",
    "If you are running on linux you may need to do the following installations:\n",
    "\n",
    "- `sudo apt-get install python3.10-examples` for `turtledemo` module\n",
    "- `sudo apt install python3.10-tk` for `tkinter` module"
   ]
  },
  {
   "cell_type": "markdown",
   "id": "2bfe724e",
   "metadata": {},
   "source": [
    "Importing the plugin main class"
   ]
  },
  {
   "cell_type": "code",
   "execution_count": null,
   "id": "72cb7e44",
   "metadata": {},
   "outputs": [],
   "source": [
    "import os\n",
    "from botcity.plugins.excel import BotExcelPlugin"
   ]
  },
  {
   "cell_type": "markdown",
   "id": "5eb2bb93",
   "metadata": {},
   "source": [
    "Opening excel file"
   ]
  },
  {
   "cell_type": "code",
   "execution_count": null,
   "id": "8713f126",
   "metadata": {},
   "outputs": [],
   "source": [
    "bot_excel = BotExcelPlugin(active_sheet='Sample')\n",
    "bot_excel.read(os.path.join(os.path.abspath(''), 'FinancialSample.xlsx'))  # open excel"
   ]
  },
  {
   "cell_type": "markdown",
   "id": "d5a551f4",
   "metadata": {},
   "source": [
    "Add column"
   ]
  },
  {
   "cell_type": "code",
   "execution_count": null,
   "id": "342855f2",
   "metadata": {},
   "outputs": [],
   "source": [
    "# add_column([column_name, column_rows...], sheet_name)\n",
    "bot_excel.add_column(['a', 'b', 'c'], 'Sample')"
   ]
  },
  {
   "cell_type": "markdown",
   "id": "05df5f1c",
   "metadata": {},
   "source": [
    "Add columns"
   ]
  },
  {
   "cell_type": "code",
   "execution_count": null,
   "id": "587326c0",
   "metadata": {},
   "outputs": [],
   "source": [
    "# add_columns([[column_name, column_rows...]], sheet_name)\n",
    "bot_excel.add_columns([['a', 'b', 'c'], ['a', 'b', 'c']], 'Sample') "
   ]
  },
  {
   "cell_type": "markdown",
   "id": "70173e36",
   "metadata": {},
   "source": [
    "Remove column"
   ]
  },
  {
   "cell_type": "code",
   "execution_count": null,
   "id": "2c20b9dc",
   "metadata": {},
   "outputs": [],
   "source": [
    "# remove_column(column_index)\n",
    "bot_excel.remove_column(column='A')"
   ]
  },
  {
   "cell_type": "markdown",
   "id": "f6801203",
   "metadata": {},
   "source": [
    "Remove columns"
   ]
  },
  {
   "cell_type": "code",
   "execution_count": null,
   "id": "ae4da967",
   "metadata": {},
   "outputs": [],
   "source": [
    "# remove_columns([column_indexes...])\n",
    "bot_excel.remove_columns(columns=['A', 'B'])"
   ]
  },
  {
   "cell_type": "markdown",
   "id": "f0c3abd8",
   "metadata": {},
   "source": [
    "Add new line"
   ]
  },
  {
   "cell_type": "code",
   "execution_count": null,
   "id": "7f4dbac8",
   "metadata": {},
   "outputs": [],
   "source": [
    "# add_row([row_cells...], sheet_name)\n",
    "bot_excel.add_row([1, 2, 3, 4], 'Sample')"
   ]
  },
  {
   "cell_type": "markdown",
   "id": "64858931",
   "metadata": {},
   "source": [
    "Add new lines"
   ]
  },
  {
   "cell_type": "code",
   "execution_count": null,
   "id": "1c5b2fa1",
   "metadata": {},
   "outputs": [],
   "source": [
    "# add_rows([[row_cells...]], sheet_name)\n",
    "bot_excel.add_rows([[1, 2, 3], [1, 2, 3]], 'Sample')"
   ]
  },
  {
   "cell_type": "markdown",
   "id": "aa245c1a",
   "metadata": {},
   "source": [
    "Remove row"
   ]
  },
  {
   "cell_type": "code",
   "execution_count": null,
   "id": "d8ca20b4",
   "metadata": {},
   "outputs": [],
   "source": [
    "# remove_row(row_index)\n",
    "bot_excel.remove_row(row=2)"
   ]
  },
  {
   "cell_type": "markdown",
   "id": "daa6a48a",
   "metadata": {},
   "source": [
    "Remove rows"
   ]
  },
  {
   "cell_type": "code",
   "execution_count": null,
   "id": "664f68aa",
   "metadata": {},
   "outputs": [],
   "source": [
    "# remove_rows([row_indexes...])\n",
    "bot_excel.remove_rows(rows=[2, 3])"
   ]
  },
  {
   "cell_type": "markdown",
   "id": "e9b53313",
   "metadata": {},
   "source": [
    "Print sheet"
   ]
  },
  {
   "cell_type": "code",
   "execution_count": null,
   "id": "08871915",
   "metadata": {},
   "outputs": [],
   "source": [
    "# print as pandas dataframe\n",
    "print(bot_excel.as_dataframe())\n",
    "\n",
    "# print as lists (Two-dimensional lists)\n",
    "print(bot_excel.as_list())"
   ]
  },
  {
   "cell_type": "markdown",
   "id": "e7c64a6c",
   "metadata": {},
   "source": [
    "Clear sheet (clear all)"
   ]
  },
  {
   "cell_type": "code",
   "execution_count": null,
   "id": "2fbce11a",
   "metadata": {},
   "outputs": [],
   "source": [
    "bot_excel.clear()"
   ]
  },
  {
   "cell_type": "markdown",
   "id": "f3af5189",
   "metadata": {},
   "source": [
    "Clear with range"
   ]
  },
  {
   "cell_type": "code",
   "execution_count": null,
   "id": "e4e7fd14",
   "metadata": {},
   "outputs": [],
   "source": [
    "bot_excel.clear_range(range_='A2:P2')"
   ]
  },
  {
   "cell_type": "markdown",
   "id": "d3992901",
   "metadata": {},
   "source": [
    "Rename sheet"
   ]
  },
  {
   "cell_type": "code",
   "execution_count": null,
   "id": "fb2e3a6e",
   "metadata": {},
   "outputs": [],
   "source": [
    "# rename_sheet(new_sheet_name, target_sheet)\n",
    "bot_excel.rename_sheet(new_name='NewSample', sheet='Sample')"
   ]
  },
  {
   "cell_type": "markdown",
   "id": "f33869d7",
   "metadata": {},
   "source": [
    "Create sheet"
   ]
  },
  {
   "cell_type": "code",
   "execution_count": null,
   "id": "848921d7",
   "metadata": {},
   "outputs": [],
   "source": [
    "bot_excel.create_sheet(sheet='Sheet2')"
   ]
  },
  {
   "cell_type": "markdown",
   "id": "073315ec",
   "metadata": {},
   "source": [
    "Remove sheet"
   ]
  },
  {
   "cell_type": "code",
   "execution_count": null,
   "id": "f943c73d",
   "metadata": {},
   "outputs": [],
   "source": [
    "bot_excel.remove_sheet(sheet='Sheet2')"
   ]
  },
  {
   "cell_type": "markdown",
   "id": "8a70790d",
   "metadata": {},
   "source": [
    "Change cell value"
   ]
  },
  {
   "cell_type": "code",
   "execution_count": null,
   "id": "5a16ad80",
   "metadata": {},
   "outputs": [],
   "source": [
    "# set_cell(column_index, row_index, new_value, sheet_name)\n",
    "bot_excel.set_cell(column='A', row=1, value='Changed', sheet='Sample')"
   ]
  },
  {
   "cell_type": "markdown",
   "id": "a09ee9a9",
   "metadata": {},
   "source": [
    "Change cells value with range"
   ]
  },
  {
   "cell_type": "code",
   "execution_count": null,
   "id": "2273089a",
   "metadata": {},
   "outputs": [],
   "source": [
    "# set_range([new_rows_values...], range, sheet_name)\n",
    "bot_excel.set_range(values=[['Changed', 'Changed']], range_='A1:B1', sheet='Sample')"
   ]
  },
  {
   "cell_type": "markdown",
   "id": "34a2be51",
   "metadata": {},
   "source": [
    "Get cell value"
   ]
  },
  {
   "cell_type": "code",
   "execution_count": null,
   "id": "6e6370e5",
   "metadata": {},
   "outputs": [],
   "source": [
    "# get_cell(column_index, row_index)\n",
    "cell = bot_excel.get_cell('A', 2)\n",
    "print(cell)"
   ]
  },
  {
   "cell_type": "markdown",
   "id": "6ff64ea5",
   "metadata": {},
   "source": [
    "Get column cells"
   ]
  },
  {
   "cell_type": "code",
   "execution_count": null,
   "id": "fe97d6d6",
   "metadata": {},
   "outputs": [],
   "source": [
    "# get_column(column_index)\n",
    "column = bot_excel.get_column(column='A')\n",
    "print(column)"
   ]
  },
  {
   "cell_type": "markdown",
   "id": "c74bc717",
   "metadata": {},
   "source": [
    "Get sheet vlaue with range"
   ]
  },
  {
   "cell_type": "code",
   "execution_count": null,
   "id": "ee6418c4",
   "metadata": {},
   "outputs": [],
   "source": [
    "rangee = bot_excel.get_range(range_='A1:D2')\n",
    "print(rangee)"
   ]
  },
  {
   "cell_type": "markdown",
   "id": "55708d1c",
   "metadata": {},
   "source": [
    "Get row values"
   ]
  },
  {
   "cell_type": "code",
   "execution_count": null,
   "id": "59b29940",
   "metadata": {},
   "outputs": [],
   "source": [
    "# get_row(row_index)\n",
    "row = bot_excel.get_row(row=1)\n",
    "print(row)"
   ]
  },
  {
   "cell_type": "markdown",
   "id": "2e76b47c",
   "metadata": {},
   "source": [
    "Get list of sheets"
   ]
  },
  {
   "cell_type": "code",
   "execution_count": null,
   "id": "d74410b1",
   "metadata": {},
   "outputs": [],
   "source": [
    "sheets = bot_excel.list_sheets()\n",
    "print(sheets)"
   ]
  },
  {
   "cell_type": "markdown",
   "id": "5286449f",
   "metadata": {},
   "source": [
    "Sort rows"
   ]
  },
  {
   "cell_type": "code",
   "execution_count": null,
   "id": "312aa7ec",
   "metadata": {},
   "outputs": [],
   "source": [
    "bot_excel.sort(by_columns=['D'], ascending=True, start_row=2)"
   ]
  },
  {
   "cell_type": "markdown",
   "id": "8f50a07f",
   "metadata": {},
   "source": [
    "Save sheet"
   ]
  },
  {
   "cell_type": "code",
   "execution_count": null,
   "id": "01110493",
   "metadata": {},
   "outputs": [],
   "source": [
    "# write(path_to_save)\n",
    "bot_excel.write(os.path.join(PROJECT_PATH, 'FinancialSample.xlsx'))"
   ]
  }
 ],
 "metadata": {
  "kernelspec": {
   "display_name": "Python 3 (ipykernel)",
   "language": "python",
   "name": "python3"
  },
  "language_info": {
   "codemirror_mode": {
    "name": "ipython",
    "version": 3
   },
   "file_extension": ".py",
   "mimetype": "text/x-python",
   "name": "python",
   "nbconvert_exporter": "python",
   "pygments_lexer": "ipython3",
   "version": "3.10.2"
  }
 },
 "nbformat": 4,
 "nbformat_minor": 5
}
