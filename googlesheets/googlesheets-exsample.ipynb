{
 "cells": [
  {
   "cell_type": "markdown",
   "id": "893f0556",
   "metadata": {},
   "source": [
    "# Google Sheets Plugin\n",
    "\n",
    "Handle your spreadsheets.\n",
    "\n",
    "# Installation\n",
    "\n",
    "`pip install botcity-googlesheets-plugin`\n",
    "\n",
    "# Documentation\n",
    "\n",
    "[Botcity Google Sheets Plugin](https://botcity-dev.github.io/botcity-plugins-python/botcity-googlesheets-plugin-python/)"
   ]
  },
  {
   "cell_type": "markdown",
   "id": "db2d09d6",
   "metadata": {},
   "source": [
    "Importing the plugin main class"
   ]
  },
  {
   "cell_type": "code",
   "execution_count": 2,
   "id": "81895dc3",
   "metadata": {},
   "outputs": [],
   "source": [
    "import os\n",
    "from botcity.plugins.googlesheets import BotGoogleSheetsPlugin"
   ]
  },
  {
   "cell_type": "markdown",
   "id": "7c6aee9b",
   "metadata": {},
   "source": [
    "Reading sheet"
   ]
  },
  {
   "cell_type": "code",
   "execution_count": 3,
   "id": "79ee813f",
   "metadata": {},
   "outputs": [],
   "source": [
    "spreadsheet_id = '1nsEuvKg3CpaKA9gB5s86De2KS_6TTMtIzPx8g9Eu7LY'\n",
    "bot_sheets = BotGoogleSheetsPlugin('credentials.json', spreadsheet_id)"
   ]
  },
  {
   "cell_type": "markdown",
   "id": "4540081c",
   "metadata": {},
   "source": [
    "Adding new column"
   ]
  },
  {
   "cell_type": "code",
   "execution_count": null,
   "id": "8dff11be",
   "metadata": {},
   "outputs": [],
   "source": [
    "# column=[column_name, column_rows...]\n",
    "bot_sheets.add_column(column=['A', '1', '2', '3'])"
   ]
  },
  {
   "cell_type": "markdown",
   "id": "05e24b79",
   "metadata": {},
   "source": [
    "Removing column"
   ]
  },
  {
   "cell_type": "code",
   "execution_count": null,
   "id": "9c9d6ed1",
   "metadata": {},
   "outputs": [],
   "source": [
    "# column=column_index\n",
    "bot_sheets.remove_column(column='D', sheet='Página1')"
   ]
  },
  {
   "cell_type": "code",
   "execution_count": null,
   "id": "1bf4e6eb",
   "metadata": {},
   "outputs": [],
   "source": [
    "Adding new columns"
   ]
  },
  {
   "cell_type": "code",
   "execution_count": null,
   "id": "2321ba5b",
   "metadata": {},
   "outputs": [],
   "source": [
    "# [[column_name, column_rows...], ...]\n",
    "bot_sheets.add_columns(columns=[['B', '1', '2', '3'],['C', '1', '2', '3']], sheet='Página1')"
   ]
  },
  {
   "cell_type": "markdown",
   "id": "24f47fef",
   "metadata": {},
   "source": [
    "Removing columns"
   ]
  },
  {
   "cell_type": "code",
   "execution_count": null,
   "id": "c42a7d84",
   "metadata": {},
   "outputs": [],
   "source": [
    "# columns=[column_indexes...]\n",
    "bot_sheets.remove_columns(columns=['C', 'D'], sheet='Página1')"
   ]
  },
  {
   "cell_type": "markdown",
   "id": "c9694d38",
   "metadata": {},
   "source": [
    "Adding new row"
   ]
  },
  {
   "cell_type": "code",
   "execution_count": null,
   "id": "951930d1",
   "metadata": {},
   "outputs": [],
   "source": [
    "# row=[column_value...]\n",
    "bot_sheets.add_row(row=['1', '2', '', '4'], sheet='Página1')"
   ]
  },
  {
   "cell_type": "markdown",
   "id": "5f1074f6",
   "metadata": {},
   "source": [
    "Removing row"
   ]
  },
  {
   "cell_type": "code",
   "execution_count": null,
   "id": "acbcdad7",
   "metadata": {},
   "outputs": [],
   "source": [
    "# row=row_index\n",
    "bot_sheets.remove_row(row=4, sheet='Página1')"
   ]
  },
  {
   "cell_type": "markdown",
   "id": "cea8afcb",
   "metadata": {},
   "source": [
    "Adding new rows"
   ]
  },
  {
   "cell_type": "code",
   "execution_count": null,
   "id": "6a208d06",
   "metadata": {},
   "outputs": [],
   "source": [
    "# rows=[[column_values...], ...]\n",
    "bot_sheets.add_rows(rows=[['1', '2', '3', '4'],['11', '22', '33', '44']], sheet='Página1')"
   ]
  },
  {
   "cell_type": "markdown",
   "id": "09ee4493",
   "metadata": {},
   "source": [
    "Removing rows"
   ]
  },
  {
   "cell_type": "code",
   "execution_count": null,
   "id": "c5c6ed7b",
   "metadata": {},
   "outputs": [],
   "source": [
    "# rows=[row_indexes...]\n",
    "bot_sheets.remove_rows(rows=[4, 5], sheet='Página1')"
   ]
  },
  {
   "cell_type": "markdown",
   "id": "b074416e",
   "metadata": {},
   "source": [
    "Printing sheet"
   ]
  },
  {
   "cell_type": "code",
   "execution_count": 4,
   "id": "e1af747d",
   "metadata": {},
   "outputs": [
    {
     "name": "stdout",
     "output_type": "stream",
     "text": [
      "[['Changed 1', 'Changed 2', 'Manufacturing Price', 'Sale Price'], ['High', '2734', '5', '7'], ['High3', '1682000', '259', '6'], ['Medium', '1683', '260', '7']]\n"
     ]
    }
   ],
   "source": [
    "print(bot_sheets.as_list(sheet='Página1'))  # (Two-dimensional lists) [[...], ...]"
   ]
  },
  {
   "cell_type": "markdown",
   "id": "bd313ca8",
   "metadata": {},
   "source": [
    "Clear sheet"
   ]
  },
  {
   "cell_type": "code",
   "execution_count": null,
   "id": "9856ed1b",
   "metadata": {},
   "outputs": [],
   "source": [
    "bot_sheets.clear(sheet='Página1')"
   ]
  },
  {
   "cell_type": "markdown",
   "id": "82862121",
   "metadata": {},
   "source": [
    "Clear sheet with range"
   ]
  },
  {
   "cell_type": "code",
   "execution_count": null,
   "id": "9dd2297d",
   "metadata": {},
   "outputs": [],
   "source": [
    "bot_sheets.clear_range(range_='A4:D4')"
   ]
  },
  {
   "cell_type": "markdown",
   "id": "b561b3e7",
   "metadata": {},
   "source": [
    "Create sheet"
   ]
  },
  {
   "cell_type": "code",
   "execution_count": null,
   "id": "0f3fc05f",
   "metadata": {},
   "outputs": [],
   "source": [
    "bot_sheets.create_sheet(sheet='Página22')"
   ]
  },
  {
   "cell_type": "markdown",
   "id": "68cd38a4",
   "metadata": {},
   "source": [
    "Removing sheet"
   ]
  },
  {
   "cell_type": "code",
   "execution_count": null,
   "id": "775f614b",
   "metadata": {},
   "outputs": [],
   "source": [
    "bot_sheets.remove_sheet(sheet='Página22')"
   ]
  },
  {
   "cell_type": "markdown",
   "id": "7e71de95",
   "metadata": {},
   "source": [
    "List sheets"
   ]
  },
  {
   "cell_type": "code",
   "execution_count": 5,
   "id": "c04332e5",
   "metadata": {},
   "outputs": [
    {
     "name": "stdout",
     "output_type": "stream",
     "text": [
      "['Página1', 'Página22']\n"
     ]
    }
   ],
   "source": [
    "print(bot_sheets.list_sheets())"
   ]
  },
  {
   "cell_type": "markdown",
   "id": "f96adb23",
   "metadata": {},
   "source": [
    "Get cell value"
   ]
  },
  {
   "cell_type": "code",
   "execution_count": 6,
   "id": "dccf5e14",
   "metadata": {},
   "outputs": [
    {
     "name": "stdout",
     "output_type": "stream",
     "text": [
      "Changed 1\n"
     ]
    }
   ],
   "source": [
    "# column=column_index, row=row_index\n",
    "print(bot_sheets.get_cell(column='A', row=1, sheet='Página1'))"
   ]
  },
  {
   "cell_type": "markdown",
   "id": "c17e4f02",
   "metadata": {},
   "source": [
    "Set cell value"
   ]
  },
  {
   "cell_type": "code",
   "execution_count": null,
   "id": "ac7b89f1",
   "metadata": {},
   "outputs": [],
   "source": [
    "# column=column_index, row=row_index\n",
    "bot_sheets.set_cell(column='A', row=2, value='High2', sheet='Página1')"
   ]
  },
  {
   "cell_type": "markdown",
   "id": "21dbe76d",
   "metadata": {},
   "source": [
    "Get values with range"
   ]
  },
  {
   "cell_type": "code",
   "execution_count": 7,
   "id": "b71fcf2f",
   "metadata": {},
   "outputs": [
    {
     "name": "stdout",
     "output_type": "stream",
     "text": [
      "[['Changed 1', 'Changed 2'], ['High', '2734'], ['High3', '1682000']]\n"
     ]
    }
   ],
   "source": [
    "print(bot_sheets.get_range(range_='A1:B3'))"
   ]
  },
  {
   "cell_type": "markdown",
   "id": "db8095e4",
   "metadata": {},
   "source": [
    "Set cell with range"
   ]
  },
  {
   "cell_type": "code",
   "execution_count": null,
   "id": "6f406c82",
   "metadata": {},
   "outputs": [],
   "source": [
    "bot_sheets.set_range(values=[['High3', '1682000']], range_='A2:B2', sheet='Página1')"
   ]
  },
  {
   "cell_type": "markdown",
   "id": "2baee849",
   "metadata": {},
   "source": [
    "Get column"
   ]
  },
  {
   "cell_type": "code",
   "execution_count": 8,
   "id": "9ba3661b",
   "metadata": {},
   "outputs": [
    {
     "name": "stdout",
     "output_type": "stream",
     "text": [
      "['Changed 1', 'High', 'High3', 'Medium']\n"
     ]
    }
   ],
   "source": [
    "# return all values from column -> [header, row_1, row_2, ...]\n",
    "print(bot_sheets.get_column(column='A', sheet='Página1'))"
   ]
  },
  {
   "cell_type": "markdown",
   "id": "300f78b0",
   "metadata": {},
   "source": [
    "Get row values"
   ]
  },
  {
   "cell_type": "code",
   "execution_count": 9,
   "id": "5b5b86b2",
   "metadata": {},
   "outputs": [
    {
     "name": "stdout",
     "output_type": "stream",
     "text": [
      "['Changed 1', 'Changed 2', 'Manufacturing Price', 'Sale Price']\n"
     ]
    }
   ],
   "source": [
    "print(bot_sheets.get_row(row=1, sheet='Página1'))"
   ]
  },
  {
   "cell_type": "markdown",
   "id": "01613142",
   "metadata": {},
   "source": [
    "Sort sheet"
   ]
  },
  {
   "cell_type": "code",
   "execution_count": null,
   "id": "8194050d",
   "metadata": {},
   "outputs": [],
   "source": [
    "bot_sheets.sort(by_columns=['C'], ascending=True, start_row=2, sheet='Página1')"
   ]
  },
  {
   "cell_type": "markdown",
   "id": "bd9010b0",
   "metadata": {},
   "source": [
    "Create new spreadsheet"
   ]
  },
  {
   "cell_type": "code",
   "execution_count": 10,
   "id": "599f64a8",
   "metadata": {},
   "outputs": [],
   "source": [
    "bot_sheets2 = BotGoogleSheetsPlugin.new_spreadsheet('credentials.json', 'test_new_spreadsheet')"
   ]
  },
  {
   "cell_type": "markdown",
   "id": "6f855d54",
   "metadata": {},
   "source": [
    "Get spreadsheet id"
   ]
  },
  {
   "cell_type": "code",
   "execution_count": 11,
   "id": "3808adde",
   "metadata": {},
   "outputs": [
    {
     "name": "stdout",
     "output_type": "stream",
     "text": [
      "1nFjLTNqLnsti2zThg8vlUA3prdbOWB7-wmWtfqAy41Y\n"
     ]
    }
   ],
   "source": [
    "print(bot_sheets2.get_spreadsheet_id())"
   ]
  },
  {
   "cell_type": "markdown",
   "id": "31003c8c",
   "metadata": {},
   "source": [
    "Get spreadsheet link"
   ]
  },
  {
   "cell_type": "code",
   "execution_count": 12,
   "id": "432a9dc1",
   "metadata": {
    "scrolled": true
   },
   "outputs": [
    {
     "name": "stdout",
     "output_type": "stream",
     "text": [
      "https://docs.google.com/spreadsheets/d/1nFjLTNqLnsti2zThg8vlUA3prdbOWB7-wmWtfqAy41Y/edit\n"
     ]
    }
   ],
   "source": [
    "print(bot_sheets2.get_spreadsheet_link())"
   ]
  }
 ],
 "metadata": {
  "kernelspec": {
   "display_name": "Python 3 (ipykernel)",
   "language": "python",
   "name": "python3"
  },
  "language_info": {
   "codemirror_mode": {
    "name": "ipython",
    "version": 3
   },
   "file_extension": ".py",
   "mimetype": "text/x-python",
   "name": "python",
   "nbconvert_exporter": "python",
   "pygments_lexer": "ipython3",
   "version": "3.10.2"
  }
 },
 "nbformat": 4,
 "nbformat_minor": 5
}
